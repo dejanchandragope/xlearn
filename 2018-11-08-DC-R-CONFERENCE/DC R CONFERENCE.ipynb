{
 "cells": [
  {
   "cell_type": "markdown",
   "metadata": {},
   "source": [
    "# Hurray ... DC R Conference 2018 beginssss !!!"
   ]
  },
  {
   "cell_type": "markdown",
   "metadata": {},
   "source": [
    "I got a tweet that the DC R CONFERENCE conference started today(08-NOV-2018) in Washington DC. This conference in primarily in R and I have been looking upto it mainly because there will a session by Max Kuhn, the creater of `caret` package and writer of the book `Applied Predictive Modeling` \n",
    "\n",
    "Here is the agenda of talks by awesome speakers https://dc.rstats.ai/agenda/. This link might not work if you are looking at it a later point of time.\n",
    "\n",
    "When I saw the agenda and after going through the schedule, a thought came to my mind if I can scrape this page and extract the topic on which the speakers are going to speak and the name of the speaker. So I did a \"View page source\" on the webpage and found that we can extract all patterns which are in the format:\n",
    "\n",
    "`\"<p><strong>Equivocals in Predictive Modeling</strong><br>Max Kuhn, RStudio</p>\"` \n",
    "\n",
    "Here the text between `<strong>` is the title of session and text after `<br>` is the name of the speaker.\n",
    "\n",
    "So I have two learning agenda for this article:\n",
    "    - How to display a tweet in a jupyter notebook\n",
    "    - Fetch the session title and name of the speaker\n",
    "    \n",
    "So let's do it."
   ]
  },
  {
   "cell_type": "markdown",
   "metadata": {},
   "source": [
    "## 1. How to display a tweet in a jupyter notebook"
   ]
  },
  {
   "cell_type": "markdown",
   "metadata": {},
   "source": [
    " Go to the tweet and click on \"Embed Tweet\", this will give a link to copy. To be frank I looked at this [POST](https://github.com/jupyter/notebook/issues/2790) and followed the steps as below and it worked. :P"
   ]
  },
  {
   "cell_type": "code",
   "execution_count": 2,
   "metadata": {},
   "outputs": [],
   "source": [
    "class Tweet(object):\n",
    "    def __init__(self, embed_str=None):\n",
    "        self.embed_str = embed_str\n",
    "\n",
    "    def _repr_html_(self):\n",
    "        return self.embed_str"
   ]
  },
  {
   "cell_type": "code",
   "execution_count": 4,
   "metadata": {},
   "outputs": [],
   "source": [
    "s=(\"\"\"<blockquote class=\"twitter-tweet\" data-lang=\"en\"><p lang=\"en\" dir=\"ltr\">I&#39;ll be talking about cutting edge tidymodels stuff at the <a href=\"https://twitter.com/rstatsdc?ref_src=twsrc%5Etfw\">@rstatsdc</a> conference on November 8th &amp; 9th. <br><br>Bayesian analysis! parsnip! The mysterious &quot;bucktoothed mustache plot&quot;! <br><br>If you like the sister conference <a href=\"https://twitter.com/rstatsnyc?ref_src=twsrc%5Etfw\">@rstatsnyc</a> you&#39;ll love this too. <a href=\"https://t.co/L4QXyNReOe\">https://t.co/L4QXyNReOe</a><a href=\"https://twitter.com/hashtag/rstats?src=hash&amp;ref_src=twsrc%5Etfw\">#rstats</a></p>&mdash; Max Kuhn (@topepos) <a href=\"https://twitter.com/topepos/status/1057071672631660544?ref_src=twsrc%5Etfw\">October 30, 2018</a></blockquote>\n",
    "<script async src=\"https://platform.twitter.com/widgets.js\" charset=\"utf-8\"></script>\"\"\")"
   ]
  },
  {
   "cell_type": "code",
   "execution_count": 5,
   "metadata": {},
   "outputs": [
    {
     "data": {
      "text/html": [
       "<blockquote class=\"twitter-tweet\" data-lang=\"en\"><p lang=\"en\" dir=\"ltr\">I&#39;ll be talking about cutting edge tidymodels stuff at the <a href=\"https://twitter.com/rstatsdc?ref_src=twsrc%5Etfw\">@rstatsdc</a> conference on November 8th &amp; 9th. <br><br>Bayesian analysis! parsnip! The mysterious &quot;bucktoothed mustache plot&quot;! <br><br>If you like the sister conference <a href=\"https://twitter.com/rstatsnyc?ref_src=twsrc%5Etfw\">@rstatsnyc</a> you&#39;ll love this too. <a href=\"https://t.co/L4QXyNReOe\">https://t.co/L4QXyNReOe</a><a href=\"https://twitter.com/hashtag/rstats?src=hash&amp;ref_src=twsrc%5Etfw\">#rstats</a></p>&mdash; Max Kuhn (@topepos) <a href=\"https://twitter.com/topepos/status/1057071672631660544?ref_src=twsrc%5Etfw\">October 30, 2018</a></blockquote>\n",
       "<script async src=\"https://platform.twitter.com/widgets.js\" charset=\"utf-8\"></script>"
      ],
      "text/plain": [
       "<__main__.Tweet at 0x2537fec49e8>"
      ]
     },
     "execution_count": 5,
     "metadata": {},
     "output_type": "execute_result"
    }
   ],
   "source": [
    "Tweet(s)"
   ]
  },
  {
   "cell_type": "markdown",
   "metadata": {},
   "source": [
    "#### Cool :)"
   ]
  },
  {
   "cell_type": "markdown",
   "metadata": {},
   "source": [
    "## 2. Fetch the session title and name of the speaker"
   ]
  },
  {
   "cell_type": "markdown",
   "metadata": {},
   "source": [
    "This conference is in `R` but I am using `python` to fetch the data :P"
   ]
  },
  {
   "cell_type": "code",
   "execution_count": 14,
   "metadata": {},
   "outputs": [],
   "source": [
    "import requests      #to fetch webpage in text format\n",
    "import pandas as pd  #don't tell me u don't know what pandas is for\n",
    "import re            #regular expressions"
   ]
  },
  {
   "cell_type": "code",
   "execution_count": 15,
   "metadata": {},
   "outputs": [],
   "source": [
    "url = \"https://dc.rstats.ai/agenda/\"\n",
    "r = requests.get(url)"
   ]
  },
  {
   "cell_type": "markdown",
   "metadata": {},
   "source": [
    "Basically we need the text format of HTML page which we can get by using `r.text`"
   ]
  },
  {
   "cell_type": "code",
   "execution_count": 25,
   "metadata": {},
   "outputs": [
    {
     "data": {
      "text/plain": [
       "37486"
      ]
     },
     "execution_count": 25,
     "metadata": {},
     "output_type": "execute_result"
    }
   ],
   "source": [
    "#Number of characters (including spaces) in the web page source\n",
    "len(r.text)"
   ]
  },
  {
   "cell_type": "markdown",
   "metadata": {},
   "source": [
    "Part of webpage looks like this:"
   ]
  },
  {
   "cell_type": "code",
   "execution_count": 23,
   "metadata": {},
   "outputs": [
    {
     "data": {
      "text/plain": [
       "' at thousands of companies, results can seem difficult to parse without resorting to expensive end-to-end commercial options. But using DataCamp\\'s system as an example, I\\'ll illustrate how R is a great language for building powerful analytical and visualization experiment tools. We\\'ll first see how Shiny dashboards can help people monitor and quickly analyze multiple A/B tests each week. We\\'ll then dive into the open-source funneljoin package we\\'ve created using variations on dplyr\\'s joining function, allowing you to analyze sequential actions using behavioral funnels.</p>\\n    </div>\\n  </div>\\n</div>\\n\\n\\n<div class=\"row agenda-row\">\\n  <div class=\"col-md-4\">\\n    <div class=\"wow fadeInUp\" data-wow-delay=\"0.5s\">\\n      <p>\\n         <strong>11:05am - 11:25am</strong>\\n      </p>\\n    </div>\\n  </div>\\n\\n  <div class=\"col-md-8\">\\n    <div class=\"wow fadeInUp\" data-wow-delay=\"0.5s\">\\n      <p><strong>Many Ways to Lasso</strong><br>Jared P. Lander, Lander Analytics</p>\\n      <p>The elastic net is one of'"
      ]
     },
     "execution_count": 23,
     "metadata": {},
     "output_type": "execute_result"
    }
   ],
   "source": [
    "r.text[10000:11000] #String can be sub"
   ]
  },
  {
   "cell_type": "markdown",
   "metadata": {},
   "source": [
    "As I said earlier, we need to fetch text which is in the format `\"<p><strong>Many Ways to Lasso</strong><br>Jared P. Lander, Lander Analytics</p>\"`\n",
    "\n",
    "So I wrote a simple regular expression and did some text replacement."
   ]
  },
  {
   "cell_type": "code",
   "execution_count": 16,
   "metadata": {},
   "outputs": [],
   "source": [
    "pattern = r\"<p>(.*?)<br>(.*?)</p>\""
   ]
  },
  {
   "cell_type": "code",
   "execution_count": 17,
   "metadata": {},
   "outputs": [],
   "source": [
    "title_author = re.findall(pattern,r.text)\n",
    "title_author_df = pd.DataFrame(title_author)\n",
    "title_author_df.columns = [\"title\", \"author\"]"
   ]
  },
  {
   "cell_type": "code",
   "execution_count": 26,
   "metadata": {},
   "outputs": [],
   "source": [
    "title_author_df.title = title_author_df.title.str.replace(r\"<strong>|</strong>\", \"\")"
   ]
  },
  {
   "cell_type": "code",
   "execution_count": 27,
   "metadata": {},
   "outputs": [
    {
     "data": {
      "text/html": [
       "<div>\n",
       "<style scoped>\n",
       "    .dataframe tbody tr th:only-of-type {\n",
       "        vertical-align: middle;\n",
       "    }\n",
       "\n",
       "    .dataframe tbody tr th {\n",
       "        vertical-align: top;\n",
       "    }\n",
       "\n",
       "    .dataframe thead th {\n",
       "        text-align: right;\n",
       "    }\n",
       "</style>\n",
       "<table border=\"1\" class=\"dataframe\">\n",
       "  <thead>\n",
       "    <tr style=\"text-align: right;\">\n",
       "      <th></th>\n",
       "      <th>title</th>\n",
       "      <th>author</th>\n",
       "    </tr>\n",
       "  </thead>\n",
       "  <tbody>\n",
       "    <tr>\n",
       "      <th>0</th>\n",
       "      <td>Practical R - R as LEGO to Solve Real Problems</td>\n",
       "      <td>Refael Lav, Deloitte</td>\n",
       "    </tr>\n",
       "    <tr>\n",
       "      <th>1</th>\n",
       "      <td>My Open Source Journey in R\\Finance</td>\n",
       "      <td>Soumya Kalra, R-Ladies NYC</td>\n",
       "    </tr>\n",
       "    <tr>\n",
       "      <th>2</th>\n",
       "      <td>Democratizing Data Science: Using R for End-to...</td>\n",
       "      <td>Michael Powell, Intelligence and Security Command</td>\n",
       "    </tr>\n",
       "    <tr>\n",
       "      <th>3</th>\n",
       "      <td>Building an A/B Testing Analytics System with ...</td>\n",
       "      <td>Emily Robinson, DataCamp</td>\n",
       "    </tr>\n",
       "    <tr>\n",
       "      <th>4</th>\n",
       "      <td>Many Ways to Lasso</td>\n",
       "      <td>Jared P. Lander, Lander Analytics</td>\n",
       "    </tr>\n",
       "    <tr>\n",
       "      <th>5</th>\n",
       "      <td>Structuring Your Data Science Projects</td>\n",
       "      <td>Dan Chen, Virginia Tech</td>\n",
       "    </tr>\n",
       "    <tr>\n",
       "      <th>6</th>\n",
       "      <td>gg-what?: A Look at the ggplot Ecosystem</td>\n",
       "      <td>Marck Vaisman, Microsoft</td>\n",
       "    </tr>\n",
       "    <tr>\n",
       "      <th>7</th>\n",
       "      <td>Anomaly Detection With Time Series Data: How t...</td>\n",
       "      <td>Catherine Zhou, Codecademy</td>\n",
       "    </tr>\n",
       "    <tr>\n",
       "      <th>8</th>\n",
       "      <td>Proximity Matching with Random Forests</td>\n",
       "      <td>Anna Sofia Kircher, Lendable</td>\n",
       "    </tr>\n",
       "    <tr>\n",
       "      <th>9</th>\n",
       "      <td>Hacking Gmail to See if Anyone Actually Cares ...</td>\n",
       "      <td>Jim Klucar, Nyla Technology Solutions</td>\n",
       "    </tr>\n",
       "    <tr>\n",
       "      <th>10</th>\n",
       "      <td>Analyzing Genomics Data in R with Bioconductor</td>\n",
       "      <td>Stephanie Hicks, Johns Hopkins University</td>\n",
       "    </tr>\n",
       "    <tr>\n",
       "      <th>11</th>\n",
       "      <td>Data Science? Make It Spatial</td>\n",
       "      <td>Angela Li, Center for Spatial Data Science</td>\n",
       "    </tr>\n",
       "    <tr>\n",
       "      <th>12</th>\n",
       "      <td>Let's Git'R Marked Down: Streamline Model Deve...</td>\n",
       "      <td>Lizzy Huang, Freddie Mac</td>\n",
       "    </tr>\n",
       "    <tr>\n",
       "      <th>13</th>\n",
       "      <td>Mining Text with textmineR</td>\n",
       "      <td>Tommy Jones, In-Q-Tel</td>\n",
       "    </tr>\n",
       "    <tr>\n",
       "      <th>14</th>\n",
       "      <td>SQL for Everyone</td>\n",
       "      <td>Max Richman, Arcadia Power</td>\n",
       "    </tr>\n",
       "    <tr>\n",
       "      <th>15</th>\n",
       "      <td>Not Hotdog: Image Recognition with R and the C...</td>\n",
       "      <td>David Smith, Microsoft</td>\n",
       "    </tr>\n",
       "    <tr>\n",
       "      <th>16</th>\n",
       "      <td>Equivocals in Predictive Modeling</td>\n",
       "      <td>Max Kuhn, RStudio</td>\n",
       "    </tr>\n",
       "    <tr>\n",
       "      <th>17</th>\n",
       "      <td>Tinkering with Serverless Computing and R in t...</td>\n",
       "      <td>Kelly O'Briant, RStudio</td>\n",
       "    </tr>\n",
       "    <tr>\n",
       "      <th>18</th>\n",
       "      <td>How to Start a Data Science Insurrection at an...</td>\n",
       "      <td>Jonathan Hersh, Chapman University</td>\n",
       "    </tr>\n",
       "    <tr>\n",
       "      <th>19</th>\n",
       "      <td>How I Found Your Answer</td>\n",
       "      <td>Mara Averick, RStudio</td>\n",
       "    </tr>\n",
       "    <tr>\n",
       "      <th>20</th>\n",
       "      <td>The Story of the MNIST Dataset</td>\n",
       "      <td>Michael Garris, NIST</td>\n",
       "    </tr>\n",
       "    <tr>\n",
       "      <th>21</th>\n",
       "      <td>Activity Monitoring Using Sensors and R</td>\n",
       "      <td>Abhijit Dasgupta, Zansors</td>\n",
       "    </tr>\n",
       "    <tr>\n",
       "      <th>22</th>\n",
       "      <td>Association Rule Mining With Tweets: Thinking ...</td>\n",
       "      <td>Ami Gates, Georgetown University</td>\n",
       "    </tr>\n",
       "    <tr>\n",
       "      <th>23</th>\n",
       "      <td>Ethics of Data Storytelling</td>\n",
       "      <td>Vivian Peng</td>\n",
       "    </tr>\n",
       "  </tbody>\n",
       "</table>\n",
       "</div>"
      ],
      "text/plain": [
       "                                                title  \\\n",
       "0      Practical R - R as LEGO to Solve Real Problems   \n",
       "1                 My Open Source Journey in R\\Finance   \n",
       "2   Democratizing Data Science: Using R for End-to...   \n",
       "3   Building an A/B Testing Analytics System with ...   \n",
       "4                                  Many Ways to Lasso   \n",
       "5              Structuring Your Data Science Projects   \n",
       "6            gg-what?: A Look at the ggplot Ecosystem   \n",
       "7   Anomaly Detection With Time Series Data: How t...   \n",
       "8              Proximity Matching with Random Forests   \n",
       "9   Hacking Gmail to See if Anyone Actually Cares ...   \n",
       "10     Analyzing Genomics Data in R with Bioconductor   \n",
       "11                      Data Science? Make It Spatial   \n",
       "12  Let's Git'R Marked Down: Streamline Model Deve...   \n",
       "13                         Mining Text with textmineR   \n",
       "14                                   SQL for Everyone   \n",
       "15  Not Hotdog: Image Recognition with R and the C...   \n",
       "16                  Equivocals in Predictive Modeling   \n",
       "17  Tinkering with Serverless Computing and R in t...   \n",
       "18  How to Start a Data Science Insurrection at an...   \n",
       "19                            How I Found Your Answer   \n",
       "20                     The Story of the MNIST Dataset   \n",
       "21            Activity Monitoring Using Sensors and R   \n",
       "22  Association Rule Mining With Tweets: Thinking ...   \n",
       "23                        Ethics of Data Storytelling   \n",
       "\n",
       "                                               author  \n",
       "0                                Refael Lav, Deloitte  \n",
       "1                          Soumya Kalra, R-Ladies NYC  \n",
       "2   Michael Powell, Intelligence and Security Command  \n",
       "3                            Emily Robinson, DataCamp  \n",
       "4                   Jared P. Lander, Lander Analytics  \n",
       "5                             Dan Chen, Virginia Tech  \n",
       "6                            Marck Vaisman, Microsoft  \n",
       "7                          Catherine Zhou, Codecademy  \n",
       "8                        Anna Sofia Kircher, Lendable  \n",
       "9               Jim Klucar, Nyla Technology Solutions  \n",
       "10          Stephanie Hicks, Johns Hopkins University  \n",
       "11         Angela Li, Center for Spatial Data Science  \n",
       "12                           Lizzy Huang, Freddie Mac  \n",
       "13                              Tommy Jones, In-Q-Tel  \n",
       "14                         Max Richman, Arcadia Power  \n",
       "15                             David Smith, Microsoft  \n",
       "16                                  Max Kuhn, RStudio  \n",
       "17                            Kelly O'Briant, RStudio  \n",
       "18                 Jonathan Hersh, Chapman University  \n",
       "19                              Mara Averick, RStudio  \n",
       "20                               Michael Garris, NIST  \n",
       "21                          Abhijit Dasgupta, Zansors  \n",
       "22                   Ami Gates, Georgetown University  \n",
       "23                                        Vivian Peng  "
      ]
     },
     "execution_count": 27,
     "metadata": {},
     "output_type": "execute_result"
    }
   ],
   "source": [
    "title_author_df"
   ]
  },
  {
   "cell_type": "markdown",
   "metadata": {},
   "source": [
    "Yoohooo ... got the required output. Butttttttt... can you see that the text in the `title` column is truncated. \n",
    "\n",
    "What to do now ? ... In such scenarios you do Google which leads to you `Stackoverflow`. Here is the [solution](https://stackoverflow.com/questions/25351968/how-to-display-full-non-truncated-dataframe-information-in-html-when-convertin)\n"
   ]
  },
  {
   "cell_type": "code",
   "execution_count": 28,
   "metadata": {},
   "outputs": [],
   "source": [
    "pd.set_option('display.max_colwidth', -1)"
   ]
  },
  {
   "cell_type": "code",
   "execution_count": 29,
   "metadata": {},
   "outputs": [
    {
     "data": {
      "text/html": [
       "<div>\n",
       "<style scoped>\n",
       "    .dataframe tbody tr th:only-of-type {\n",
       "        vertical-align: middle;\n",
       "    }\n",
       "\n",
       "    .dataframe tbody tr th {\n",
       "        vertical-align: top;\n",
       "    }\n",
       "\n",
       "    .dataframe thead th {\n",
       "        text-align: right;\n",
       "    }\n",
       "</style>\n",
       "<table border=\"1\" class=\"dataframe\">\n",
       "  <thead>\n",
       "    <tr style=\"text-align: right;\">\n",
       "      <th></th>\n",
       "      <th>title</th>\n",
       "      <th>author</th>\n",
       "    </tr>\n",
       "  </thead>\n",
       "  <tbody>\n",
       "    <tr>\n",
       "      <th>0</th>\n",
       "      <td>Practical R - R as LEGO to Solve Real Problems</td>\n",
       "      <td>Refael Lav, Deloitte</td>\n",
       "    </tr>\n",
       "    <tr>\n",
       "      <th>1</th>\n",
       "      <td>My Open Source Journey in R\\Finance</td>\n",
       "      <td>Soumya Kalra, R-Ladies NYC</td>\n",
       "    </tr>\n",
       "    <tr>\n",
       "      <th>2</th>\n",
       "      <td>Democratizing Data Science: Using R for End-to-End Intelligence Production</td>\n",
       "      <td>Michael Powell, Intelligence and Security Command</td>\n",
       "    </tr>\n",
       "    <tr>\n",
       "      <th>3</th>\n",
       "      <td>Building an A/B Testing Analytics System with R and Shiny</td>\n",
       "      <td>Emily Robinson, DataCamp</td>\n",
       "    </tr>\n",
       "    <tr>\n",
       "      <th>4</th>\n",
       "      <td>Many Ways to Lasso</td>\n",
       "      <td>Jared P. Lander, Lander Analytics</td>\n",
       "    </tr>\n",
       "    <tr>\n",
       "      <th>5</th>\n",
       "      <td>Structuring Your Data Science Projects</td>\n",
       "      <td>Dan Chen, Virginia Tech</td>\n",
       "    </tr>\n",
       "    <tr>\n",
       "      <th>6</th>\n",
       "      <td>gg-what?: A Look at the ggplot Ecosystem</td>\n",
       "      <td>Marck Vaisman, Microsoft</td>\n",
       "    </tr>\n",
       "    <tr>\n",
       "      <th>7</th>\n",
       "      <td>Anomaly Detection With Time Series Data: How to Know if Something is Terribly Wrong</td>\n",
       "      <td>Catherine Zhou, Codecademy</td>\n",
       "    </tr>\n",
       "    <tr>\n",
       "      <th>8</th>\n",
       "      <td>Proximity Matching with Random Forests</td>\n",
       "      <td>Anna Sofia Kircher, Lendable</td>\n",
       "    </tr>\n",
       "    <tr>\n",
       "      <th>9</th>\n",
       "      <td>Hacking Gmail to See if Anyone Actually Cares About Data Privacy</td>\n",
       "      <td>Jim Klucar, Nyla Technology Solutions</td>\n",
       "    </tr>\n",
       "    <tr>\n",
       "      <th>10</th>\n",
       "      <td>Analyzing Genomics Data in R with Bioconductor</td>\n",
       "      <td>Stephanie Hicks, Johns Hopkins University</td>\n",
       "    </tr>\n",
       "    <tr>\n",
       "      <th>11</th>\n",
       "      <td>Data Science? Make It Spatial</td>\n",
       "      <td>Angela Li, Center for Spatial Data Science</td>\n",
       "    </tr>\n",
       "    <tr>\n",
       "      <th>12</th>\n",
       "      <td>Let's Git'R Marked Down: Streamline Model Development Using R Markdown</td>\n",
       "      <td>Lizzy Huang, Freddie Mac</td>\n",
       "    </tr>\n",
       "    <tr>\n",
       "      <th>13</th>\n",
       "      <td>Mining Text with textmineR</td>\n",
       "      <td>Tommy Jones, In-Q-Tel</td>\n",
       "    </tr>\n",
       "    <tr>\n",
       "      <th>14</th>\n",
       "      <td>SQL for Everyone</td>\n",
       "      <td>Max Richman, Arcadia Power</td>\n",
       "    </tr>\n",
       "    <tr>\n",
       "      <th>15</th>\n",
       "      <td>Not Hotdog: Image Recognition with R and the Custom Vision API</td>\n",
       "      <td>David Smith, Microsoft</td>\n",
       "    </tr>\n",
       "    <tr>\n",
       "      <th>16</th>\n",
       "      <td>Equivocals in Predictive Modeling</td>\n",
       "      <td>Max Kuhn, RStudio</td>\n",
       "    </tr>\n",
       "    <tr>\n",
       "      <th>17</th>\n",
       "      <td>Tinkering with Serverless Computing and R in the Cloud</td>\n",
       "      <td>Kelly O'Briant, RStudio</td>\n",
       "    </tr>\n",
       "    <tr>\n",
       "      <th>18</th>\n",
       "      <td>How to Start a Data Science Insurrection at an Organization that Would Prefer You Not</td>\n",
       "      <td>Jonathan Hersh, Chapman University</td>\n",
       "    </tr>\n",
       "    <tr>\n",
       "      <th>19</th>\n",
       "      <td>How I Found Your Answer</td>\n",
       "      <td>Mara Averick, RStudio</td>\n",
       "    </tr>\n",
       "    <tr>\n",
       "      <th>20</th>\n",
       "      <td>The Story of the MNIST Dataset</td>\n",
       "      <td>Michael Garris, NIST</td>\n",
       "    </tr>\n",
       "    <tr>\n",
       "      <th>21</th>\n",
       "      <td>Activity Monitoring Using Sensors and R</td>\n",
       "      <td>Abhijit Dasgupta, Zansors</td>\n",
       "    </tr>\n",
       "    <tr>\n",
       "      <th>22</th>\n",
       "      <td>Association Rule Mining With Tweets: Thinking Outside the Basket</td>\n",
       "      <td>Ami Gates, Georgetown University</td>\n",
       "    </tr>\n",
       "    <tr>\n",
       "      <th>23</th>\n",
       "      <td>Ethics of Data Storytelling</td>\n",
       "      <td>Vivian Peng</td>\n",
       "    </tr>\n",
       "  </tbody>\n",
       "</table>\n",
       "</div>"
      ],
      "text/plain": [
       "                                                                                    title  \\\n",
       "0   Practical R - R as LEGO to Solve Real Problems                                          \n",
       "1   My Open Source Journey in R\\Finance                                                     \n",
       "2   Democratizing Data Science: Using R for End-to-End Intelligence Production              \n",
       "3   Building an A/B Testing Analytics System with R and Shiny                               \n",
       "4   Many Ways to Lasso                                                                      \n",
       "5   Structuring Your Data Science Projects                                                  \n",
       "6   gg-what?: A Look at the ggplot Ecosystem                                                \n",
       "7   Anomaly Detection With Time Series Data: How to Know if Something is Terribly Wrong     \n",
       "8   Proximity Matching with Random Forests                                                  \n",
       "9   Hacking Gmail to See if Anyone Actually Cares About Data Privacy                        \n",
       "10  Analyzing Genomics Data in R with Bioconductor                                          \n",
       "11  Data Science? Make It Spatial                                                           \n",
       "12  Let's Git'R Marked Down: Streamline Model Development Using R Markdown                  \n",
       "13  Mining Text with textmineR                                                              \n",
       "14  SQL for Everyone                                                                        \n",
       "15  Not Hotdog: Image Recognition with R and the Custom Vision API                          \n",
       "16  Equivocals in Predictive Modeling                                                       \n",
       "17  Tinkering with Serverless Computing and R in the Cloud                                  \n",
       "18  How to Start a Data Science Insurrection at an Organization that Would Prefer You Not   \n",
       "19  How I Found Your Answer                                                                 \n",
       "20  The Story of the MNIST Dataset                                                          \n",
       "21  Activity Monitoring Using Sensors and R                                                 \n",
       "22  Association Rule Mining With Tweets: Thinking Outside the Basket                        \n",
       "23  Ethics of Data Storytelling                                                             \n",
       "\n",
       "                                               author  \n",
       "0   Refael Lav, Deloitte                               \n",
       "1   Soumya Kalra, R-Ladies NYC                         \n",
       "2   Michael Powell, Intelligence and Security Command  \n",
       "3   Emily Robinson, DataCamp                           \n",
       "4   Jared P. Lander, Lander Analytics                  \n",
       "5   Dan Chen, Virginia Tech                            \n",
       "6   Marck Vaisman, Microsoft                           \n",
       "7   Catherine Zhou, Codecademy                         \n",
       "8   Anna Sofia Kircher, Lendable                       \n",
       "9   Jim Klucar, Nyla Technology Solutions              \n",
       "10  Stephanie Hicks, Johns Hopkins University          \n",
       "11  Angela Li, Center for Spatial Data Science         \n",
       "12  Lizzy Huang, Freddie Mac                           \n",
       "13  Tommy Jones, In-Q-Tel                              \n",
       "14  Max Richman, Arcadia Power                         \n",
       "15  David Smith, Microsoft                             \n",
       "16  Max Kuhn, RStudio                                  \n",
       "17  Kelly O'Briant, RStudio                            \n",
       "18  Jonathan Hersh, Chapman University                 \n",
       "19  Mara Averick, RStudio                              \n",
       "20  Michael Garris, NIST                               \n",
       "21  Abhijit Dasgupta, Zansors                          \n",
       "22  Ami Gates, Georgetown University                   \n",
       "23  Vivian Peng                                        "
      ]
     },
     "execution_count": 29,
     "metadata": {},
     "output_type": "execute_result"
    }
   ],
   "source": [
    "title_author_df"
   ]
  },
  {
   "cell_type": "markdown",
   "metadata": {},
   "source": [
    "One more thing, since this conference is in R so I first tried to scrape this data in R using `rvest` package using html tags and functions like read_html(), html_nodes(), html_text() but didn't get the expected results. I am sure I am missing somthing. \n",
    "But for today the work is done."
   ]
  },
  {
   "cell_type": "code",
   "execution_count": null,
   "metadata": {},
   "outputs": [],
   "source": [
    "# R script which only gave title\n",
    "url = \"https://dc.rstats.ai/agenda/\"\n",
    "speakers = url %>% \n",
    "  read_html() %>% \n",
    "  html_nodes(\"strong\") %>% \n",
    "  html_text()"
   ]
  },
  {
   "cell_type": "markdown",
   "metadata": {},
   "source": [
    "## Thank You and Take Care"
   ]
  }
 ],
 "metadata": {
  "kernelspec": {
   "display_name": "Python 3",
   "language": "python",
   "name": "python3"
  },
  "language_info": {
   "codemirror_mode": {
    "name": "ipython",
    "version": 3
   },
   "file_extension": ".py",
   "mimetype": "text/x-python",
   "name": "python",
   "nbconvert_exporter": "python",
   "pygments_lexer": "ipython3",
   "version": "3.6.4"
  }
 },
 "nbformat": 4,
 "nbformat_minor": 2
}
